{
  "cells": [
    {
      "cell_type": "code",
      "execution_count": null,
      "metadata": {
        "id": "qq2fAE7QmShN"
      },
      "outputs": [],
      "source": [
        "# install pytorch (http://pytorch.org/) if run from Google Colaboratory\n",
        "import sys\n",
        "if 'google.colab' in sys.modules and 'torch' not in sys.modules:\n",
        "    from os.path import exists\n",
        "    from wheel.pep425tags import get_abbr_impl, get_impl_ver, get_abi_tag\n",
        "    platform = '{}{}-{}'.format(get_abbr_impl(), get_impl_ver(), get_abi_tag())\n",
        "    cuda_output = !ldconfig -p|grep cudart.so|sed -e 's/.*\\.\\([0-9]*\\)\\.\\([0-9]*\\)$/cu\\1\\2/'\n",
        "    accelerator = cuda_output[0] if exists('/dev/nvidia0') else 'cpu'\n",
        "\n",
        "    !pip3 install https://download.pytorch.org/whl/{accelerator}/torch-1.1.0-{platform}-linux_x86_64.whl\n",
        "    !pip3 install https://download.pytorch.org/whl/{accelerator}/torchvision-0.3.0-{platform}-linux_x86_64.whl\n",
        "\n",
        "%matplotlib inline\n",
        "import os\n",
        "\n",
        "import torch\n",
        "import torch.nn as nn\n",
        "import torch.nn.functional as F"
      ]
    },
    {
      "cell_type": "markdown",
      "metadata": {
        "id": "WJFDmBE2mShU"
      },
      "source": [
        "Parameter Settings\n",
        "-------------------\n"
      ]
    },
    {
      "cell_type": "code",
      "execution_count": null,
      "metadata": {
        "id": "KV_xXtyhmShX"
      },
      "outputs": [],
      "source": [
        "latent_dims = 10\n",
        "num_epochs = 20\n",
        "batch_size = 128\n",
        "learning_rate = 2e-4\n",
        "use_gpu = True"
      ]
    },
    {
      "cell_type": "code",
      "execution_count": null,
      "metadata": {
        "id": "5iOKwfU0mShb"
      },
      "outputs": [],
      "source": [
        "import torchvision.transforms as transforms\n",
        "from torch.utils.data import DataLoader\n",
        "from torchvision.datasets import IXI\n",
        "\n",
        "img_transform = transforms.Compose([\n",
        "    transforms.Resize(64),\n",
        "    transforms.ToTensor(),\n",
        "    transforms.Normalize((0.5,), (0.5,))\n",
        "])\n",
        "\n",
        "train_dataset = MNIST(root='./data/IXI', download=True, train=True, transform=img_transform)\n",
        "train_dataloader = DataLoader(train_dataset, batch_size=batch_size, shuffle=True)\n",
        "\n",
        "test_dataset = MNIST(root='./data/IXI', download=True, train=False, transform=img_transform)\n",
        "test_dataloader = DataLoader(test_dataset, batch_size=batch_size, shuffle=True)"
      ]
    },
    {
      "cell_type": "code",
      "execution_count": null,
      "metadata": {
        "id": "HDibHzObmShl",
        "outputId": "1ffa940e-7192-4151-c2a9-bc330a606aa2"
      },
      "outputs": [
        {
          "name": "stdout",
          "output_type": "stream",
          "text": [
            "Number of parameters for generator: 12656257 and discriminator: 11033985\n"
          ]
        }
      ],
      "source": [
        "class Generator(nn.Module):\n",
        "    def __init__(self, d=128):\n",
        "        super(Generator, self).__init__()\n",
        "        self.deconv1 = nn.ConvTranspose2d(100, d*8, 4, 1, 0)\n",
        "        self.deconv1_bn = nn.BatchNorm2d(d*8)\n",
        "        self.deconv2 = nn.ConvTranspose2d(d*8, d*4, 4, 2, 1)\n",
        "        self.deconv2_bn = nn.BatchNorm2d(d*4)\n",
        "        self.deconv3 = nn.ConvTranspose2d(d*4, d*2, 4, 2, 1)\n",
        "        self.deconv3_bn = nn.BatchNorm2d(d*2)\n",
        "        self.deconv4 = nn.ConvTranspose2d(d*2, d, 4, 2, 1)\n",
        "        self.deconv4_bn = nn.BatchNorm2d(d)\n",
        "        self.deconv5 = nn.ConvTranspose2d(d, 1, 4, 2, 1)\n",
        "\n",
        "    def forward(self, input):\n",
        "        # x = F.relu(self.deconv1(input))\n",
        "        x = F.relu(self.deconv1_bn(self.deconv1(input)))\n",
        "        x = F.relu(self.deconv2_bn(self.deconv2(x)))\n",
        "        x = F.relu(self.deconv3_bn(self.deconv3(x)))\n",
        "        x = F.relu(self.deconv4_bn(self.deconv4(x)))\n",
        "        x = torch.tanh(self.deconv5(x))\n",
        "\n",
        "        return x\n",
        "\n",
        "class Discriminator(nn.Module):\n",
        "    def __init__(self, d=128):\n",
        "        super(Discriminator, self).__init__()\n",
        "        self.conv1 = nn.Conv2d(1, d, 4, 2, 1)\n",
        "        self.conv2 = nn.Conv2d(d, d*2, 4, 2, 1)\n",
        "        self.conv2_bn = nn.BatchNorm2d(d*2)\n",
        "        self.conv3 = nn.Conv2d(d*2, d*4, 4, 2, 1)\n",
        "        self.conv3_bn = nn.BatchNorm2d(d*4)\n",
        "        self.conv4 = nn.Conv2d(d*4, d*8, 4, 2, 1)\n",
        "        self.conv4_bn = nn.BatchNorm2d(d*8)\n",
        "        self.conv5 = nn.Conv2d(d*8, 1, 4, 1, 0)\n",
        "\n",
        "    def forward(self, input):\n",
        "        x = F.leaky_relu(self.conv1(input), 0.2)\n",
        "        x = F.leaky_relu(self.conv2_bn(self.conv2(x)), 0.2)\n",
        "        x = F.leaky_relu(self.conv3_bn(self.conv3(x)), 0.2)\n",
        "        x = F.leaky_relu(self.conv4_bn(self.conv4(x)), 0.2)\n",
        "        x = torch.sigmoid(self.conv5(x))\n",
        "\n",
        "        return x\n",
        "\n",
        "generator = Generator()\n",
        "discriminator = Discriminator()\n",
        "\n",
        "device = torch.device(\"cuda:0\" if use_gpu and torch.cuda.is_available() else \"cpu\")\n",
        "generator = generator.to(device)\n",
        "discriminator = discriminator.to(device)\n",
        "\n",
        "num_params_gen = sum(p.numel() for p in generator.parameters() if p.requires_grad)\n",
        "num_params_disc = sum(p.numel() for p in discriminator.parameters() if p.requires_grad)\n",
        "print('Number of parameters for generator: %d and discriminator: %d' % (num_params_gen, num_params_disc))"
      ]
    },
    {
      "cell_type": "markdown",
      "metadata": {
        "id": "miWbSgRAmShw"
      },
      "source": [
        "Train GAN\n",
        "--------\n"
      ]
    },
    {
      "cell_type": "code",
      "execution_count": null,
      "metadata": {
        "scrolled": true,
        "id": "OZdAVt4-mShy",
        "outputId": "c718c707-ede6-40c7-b2a3-efba9ec49cb4"
      },
      "outputs": [
        {
          "name": "stdout",
          "output_type": "stream",
          "text": [
            "Training ...\n",
            "Epoch [1 / 20] average loss generator vs. discrim.: 2.854357 vs. 0.416896\n",
            "Epoch [2 / 20] average loss generator vs. discrim.: 1.705981 vs. 0.476559\n",
            "Epoch [3 / 20] average loss generator vs. discrim.: 2.390451 vs. 0.408744\n",
            "Epoch [4 / 20] average loss generator vs. discrim.: 2.910878 vs. 0.330530\n",
            "Epoch [5 / 20] average loss generator vs. discrim.: 3.278072 vs. 0.280085\n",
            "Epoch [6 / 20] average loss generator vs. discrim.: 3.257895 vs. 0.295203\n",
            "Epoch [7 / 20] average loss generator vs. discrim.: 3.517017 vs. 0.245961\n",
            "Epoch [8 / 20] average loss generator vs. discrim.: 3.444075 vs. 0.260465\n",
            "Epoch [9 / 20] average loss generator vs. discrim.: 3.481322 vs. 0.248881\n",
            "Epoch [10 / 20] average loss generator vs. discrim.: 4.070637 vs. 0.220907\n",
            "Epoch [11 / 20] average loss generator vs. discrim.: 3.520354 vs. 0.246003\n",
            "Epoch [12 / 20] average loss generator vs. discrim.: 3.840530 vs. 0.230747\n",
            "Epoch [13 / 20] average loss generator vs. discrim.: 3.888762 vs. 0.219766\n",
            "Epoch [14 / 20] average loss generator vs. discrim.: 3.604549 vs. 0.237643\n",
            "Epoch [15 / 20] average loss generator vs. discrim.: 4.105568 vs. 0.184729\n",
            "Epoch [16 / 20] average loss generator vs. discrim.: 4.075107 vs. 0.189496\n",
            "Epoch [17 / 20] average loss generator vs. discrim.: 4.597940 vs. 0.155430\n",
            "Epoch [18 / 20] average loss generator vs. discrim.: 3.691155 vs. 0.235769\n",
            "Epoch [19 / 20] average loss generator vs. discrim.: 4.476982 vs. 0.136519\n",
            "Epoch [20 / 20] average loss generator vs. discrim.: 3.648497 vs. 0.306585\n"
          ]
        }
      ],
      "source": [
        "# GAN training can be unstable. In this case, the strong momentum\n",
        "# for the gradient prevents convergence. One possible explanation is that the\n",
        "# strong momentum does not allow the two players in the adversarial game to react\n",
        "# to each other quickly enough. Decreasing beta1 (the exponential decay for the\n",
        "# gradient moving average in [0,1], lower is faster decay) from the default 0.9\n",
        "# to 0.5 allows for quicker reactions.\n",
        "gen_optimizer = torch.optim.Adam(params=generator.parameters(), lr=learning_rate, betas=(0.5, 0.999))\n",
        "disc_optimizer = torch.optim.Adam(params=discriminator.parameters(), lr=learning_rate, betas=(0.5, 0.999))\n",
        "\n",
        "# set to training mode\n",
        "generator.train()\n",
        "discriminator.train()\n",
        "\n",
        "gen_loss_avg = []\n",
        "disc_loss_avg = []\n",
        "\n",
        "print('Training ...')\n",
        "for epoch in range(num_epochs):\n",
        "    gen_loss_avg.append(0)\n",
        "    disc_loss_avg.append(0)\n",
        "    num_batches = 0\n",
        "\n",
        "    for image_batch, _ in train_dataloader:\n",
        "\n",
        "        # get dataset image and create real and fake labels for use in the loss\n",
        "        image_batch = image_batch.to(device)\n",
        "        label_real = torch.ones(image_batch.size(0), device=device)\n",
        "        label_fake = torch.zeros(image_batch.size(0), device=device)\n",
        "\n",
        "        # generate a batch of images from samples of the latent prior\n",
        "        latent = torch.randn(image_batch.size(0), 100, 1, 1, device=device)\n",
        "        fake_image_batch = generator(latent)\n",
        "\n",
        "        # train discriminator to correctly classify real and fake\n",
        "        # (detach the computation graph of the generator and the discriminator,\n",
        "        # so that gradients are not backpropagated into the generator)\n",
        "        real_pred = discriminator(image_batch).squeeze()\n",
        "        fake_pred = discriminator(fake_image_batch.detach()).squeeze()\n",
        "        disc_loss = 0.5 * (\n",
        "            F.binary_cross_entropy(real_pred, label_real) +\n",
        "            F.binary_cross_entropy(fake_pred, label_fake))\n",
        "\n",
        "        disc_optimizer.zero_grad()\n",
        "        disc_loss.backward()\n",
        "        disc_optimizer.step()\n",
        "\n",
        "        # train generator to output an image that is classified as real\n",
        "        fake_pred = discriminator(fake_image_batch).squeeze()\n",
        "        gen_loss = F.binary_cross_entropy(fake_pred, label_real)\n",
        "\n",
        "        gen_optimizer.zero_grad()\n",
        "        gen_loss.backward()\n",
        "        gen_optimizer.step()\n",
        "\n",
        "        gen_loss_avg[-1] += gen_loss.item()\n",
        "        disc_loss_avg[-1] += disc_loss.item()\n",
        "        num_batches += 1\n",
        "\n",
        "    gen_loss_avg[-1] /= num_batches\n",
        "    disc_loss_avg[-1] /= num_batches\n",
        "    print('Epoch [%d / %d] average loss generator vs. discrim.: %f vs. %f' %\n",
        "          (epoch+1, num_epochs, gen_loss_avg[-1], disc_loss_avg[-1]))"
      ]
    },
    {
      "cell_type": "markdown",
      "metadata": {
        "id": "VP9-Mi65mSh1"
      },
      "source": [
        "Plot Training Curves\n",
        "--------------------"
      ]
    },
    {
      "cell_type": "code",
      "execution_count": null,
      "metadata": {
        "id": "KxTl7z29mSh2",
        "outputId": "e313c31f-3118-4b2c-f32b-452585af2a91"
      },
      "outputs": [
        {
          "data": {
            "image/png": "[encoded data removed]",
            "text/plain": [
              "<Figure size 432x288 with 1 Axes>"
            ]
          },
          "metadata": {
            "needs_background": "light"
          },
          "output_type": "display_data"
        }
      ],
      "source": [
        "import matplotlib.pyplot as plt\n",
        "plt.ion()\n",
        "\n",
        "fig = plt.figure()\n",
        "plt.plot(gen_loss_avg, label='generator')\n",
        "plt.plot(disc_loss_avg, label='discriminator')\n",
        "plt.xlabel('Epochs')\n",
        "plt.ylabel('Loss')\n",
        "plt.legend()\n",
        "plt.show()"
      ]
    },
    {
      "cell_type": "code",
      "source": [],
      "metadata": {
        "id": "nPNIKW_mOPw3"
      },
      "execution_count": null,
      "outputs": []
    }
  ],
  "metadata": {
    "kernelspec": {
      "display_name": "Python 3",
      "language": "python",
      "name": "python3"
    },
    "language_info": {
      "codemirror_mode": {
        "name": "ipython",
        "version": 3
      },
      "file_extension": ".py",
      "mimetype": "text/x-python",
      "name": "python",
      "nbconvert_exporter": "python",
      "pygments_lexer": "ipython3",
      "version": "3.7.3"
    },
    "colab": {
      "provenance": []
    }
  },
  "nbformat": 4,
  "nbformat_minor": 0
}